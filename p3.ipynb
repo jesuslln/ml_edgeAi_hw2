{
 "cells": [
  {
   "cell_type": "code",
   "execution_count": 92,
   "metadata": {},
   "outputs": [],
   "source": [
    "import pandas as pd\n",
    "from sklearn.neural_network import MLPClassifier\n",
    "from sklearn import metrics\n",
    "from sklearn.preprocessing import MinMaxScaler\n",
    "import numpy as np\n",
    "import matplotlib.pyplot as plt\n"
   ]
  },
  {
   "cell_type": "code",
   "execution_count": 2,
   "metadata": {},
   "outputs": [],
   "source": [
    "# Get Data\n",
    "train_df = pd.read_csv(\"./models_data/training_dataset.csv\")\n",
    "test_black_df = pd.read_csv(\"./models_data/testing_blackscholes.csv\")\n",
    "test_body_df = pd.read_csv(\"./models_data/testing_bodytrack.csv\")\n"
   ]
  },
  {
   "cell_type": "code",
   "execution_count": 3,
   "metadata": {},
   "outputs": [],
   "source": [
    "train_data = train_df.drop(columns=['w_big', 'total_watts',\n",
    "                           'w_little', 'w_gpu', 'w_mem'])\n",
    "\n",
    "# Initialize the scaler\n",
    "scaler = MinMaxScaler()\n",
    "\n",
    "# Normalize temps & freq\n",
    "train_data['temp4'] = scaler.fit_transform(train_data[['temp4']])\n",
    "train_data['temp5'] = scaler.fit_transform(train_data[['temp5']])\n",
    "train_data['temp6'] = scaler.fit_transform(train_data[['temp6']])\n",
    "train_data['temp7'] = scaler.fit_transform(train_data[['temp7']])\n",
    "train_data['temp_gpu'] = scaler.fit_transform(train_data[['temp_gpu']])\n",
    "train_data['freq_big_cluster'] = scaler.fit_transform(\n",
    "    train_data[['freq_big_cluster']])\n"
   ]
  },
  {
   "cell_type": "code",
   "execution_count": 4,
   "metadata": {},
   "outputs": [],
   "source": [
    "train_data.drop(train_data.tail(1).index, inplace=True)\n",
    "\n",
    "temp4_train = pd.DataFrame(train_df['temp4'])[1:len(train_df)]\n",
    "temp5_train = pd.DataFrame(train_df['temp5'])[1:len(train_df)]\n",
    "temp6_train = pd.DataFrame(train_df['temp6'])[1:len(train_df)]\n",
    "temp7_train = pd.DataFrame(train_df['temp7'])[1:len(train_df)]\n"
   ]
  },
  {
   "cell_type": "code",
   "execution_count": 5,
   "metadata": {},
   "outputs": [],
   "source": [
    "test_data_blackshcoles = test_black_df.drop(columns=['w_big', 'total_watts',\n",
    "                                                     'w_little', 'w_gpu', 'w_mem'])\n",
    "\n",
    "# Normalize temps & freq\n",
    "test_data_blackshcoles['temp4'] = scaler.fit_transform(test_data_blackshcoles[['temp4']])\n",
    "test_data_blackshcoles['temp5'] = scaler.fit_transform(test_data_blackshcoles[['temp5']])\n",
    "test_data_blackshcoles['temp6'] = scaler.fit_transform(test_data_blackshcoles[['temp6']])\n",
    "test_data_blackshcoles['temp7'] = scaler.fit_transform(test_data_blackshcoles[['temp7']])\n",
    "test_data_blackshcoles['temp_gpu'] = scaler.fit_transform(test_data_blackshcoles[['temp_gpu']])\n",
    "test_data_blackshcoles['freq_big_cluster'] = scaler.fit_transform(test_data_blackshcoles[['freq_big_cluster']])\n"
   ]
  },
  {
   "cell_type": "code",
   "execution_count": 6,
   "metadata": {},
   "outputs": [],
   "source": [
    "test_data_blackshcoles.drop(test_data_blackshcoles.tail(1).index, inplace=True)\n",
    "\n",
    "temp4_black_test = pd.DataFrame(test_black_df['temp4'])[1:len(test_black_df)]\n",
    "temp5_black_test = pd.DataFrame(test_black_df['temp5'])[1:len(test_black_df)]\n",
    "temp6_black_test = pd.DataFrame(test_black_df['temp6'])[1:len(test_black_df)]\n",
    "temp7_black_test = pd.DataFrame(test_black_df['temp7'])[1:len(test_black_df)]\n"
   ]
  },
  {
   "cell_type": "code",
   "execution_count": 7,
   "metadata": {},
   "outputs": [],
   "source": [
    "test_data_bodytrack = test_body_df.drop(columns=['w_big', 'total_watts',\n",
    "                                                 'w_little', 'w_gpu', 'w_mem'])\n",
    "\n",
    "\n",
    "# Normalize temps & freq\n",
    "test_data_bodytrack['temp4'] = scaler.fit_transform(test_data_bodytrack[['temp4']])\n",
    "test_data_bodytrack['temp5'] = scaler.fit_transform(test_data_bodytrack[['temp5']])\n",
    "test_data_bodytrack['temp6'] = scaler.fit_transform(test_data_bodytrack[['temp6']])\n",
    "test_data_bodytrack['temp7'] = scaler.fit_transform(test_data_bodytrack[['temp7']])\n",
    "test_data_bodytrack['temp_gpu'] = scaler.fit_transform(test_data_bodytrack[['temp_gpu']])\n",
    "test_data_bodytrack['freq_big_cluster'] = scaler.fit_transform(test_data_bodytrack[['freq_big_cluster']])\n"
   ]
  },
  {
   "cell_type": "code",
   "execution_count": 8,
   "metadata": {},
   "outputs": [],
   "source": [
    "test_data_bodytrack.drop(test_data_bodytrack.tail(1).index, inplace=True)\n",
    "\n",
    "temp4_body_test = pd.DataFrame(test_body_df['temp4'])[1:len(test_body_df)]\n",
    "temp5_body_test = pd.DataFrame(test_body_df['temp5'])[1:len(test_body_df)]\n",
    "temp6_body_test = pd.DataFrame(test_body_df['temp6'])[1:len(test_body_df)]\n",
    "temp7_body_test = pd.DataFrame(test_body_df['temp7'])[1:len(test_body_df)]\n"
   ]
  },
  {
   "cell_type": "code",
   "execution_count": 103,
   "metadata": {},
   "outputs": [
    {
     "name": "stderr",
     "output_type": "stream",
     "text": [
      "C:\\Users\\jesus\\AppData\\Roaming\\Python\\Python310\\site-packages\\sklearn\\neural_network\\_multilayer_perceptron.py:559: ConvergenceWarning: lbfgs failed to converge (status=1):\n",
      "STOP: TOTAL NO. of ITERATIONS REACHED LIMIT.\n",
      "\n",
      "Increase the number of iterations (max_iter) or scale the data as shown in:\n",
      "    https://scikit-learn.org/stable/modules/preprocessing.html\n",
      "  self.n_iter_ = _check_optimize_result(\"lbfgs\", opt_res, self.max_iter)\n"
     ]
    },
    {
     "name": "stdout",
     "output_type": "stream",
     "text": [
      "0.9482822312523088\n"
     ]
    },
    {
     "name": "stderr",
     "output_type": "stream",
     "text": [
      "C:\\Users\\jesus\\AppData\\Roaming\\Python\\Python310\\site-packages\\sklearn\\neural_network\\_multilayer_perceptron.py:702: ConvergenceWarning: Stochastic Optimizer: Maximum iterations (200) reached and the optimization hasn't converged yet.\n",
      "  warnings.warn(\n"
     ]
    },
    {
     "name": "stdout",
     "output_type": "stream",
     "text": [
      "0.8269301810121906\n"
     ]
    },
    {
     "name": "stderr",
     "output_type": "stream",
     "text": [
      "C:\\Users\\jesus\\AppData\\Roaming\\Python\\Python310\\site-packages\\sklearn\\neural_network\\_multilayer_perceptron.py:702: ConvergenceWarning: Stochastic Optimizer: Maximum iterations (200) reached and the optimization hasn't converged yet.\n",
      "  warnings.warn(\n"
     ]
    },
    {
     "name": "stdout",
     "output_type": "stream",
     "text": [
      "0.865718507572959\n",
      "0.870520871813816\n"
     ]
    },
    {
     "name": "stderr",
     "output_type": "stream",
     "text": [
      "C:\\Users\\jesus\\AppData\\Roaming\\Python\\Python310\\site-packages\\sklearn\\neural_network\\_multilayer_perceptron.py:702: ConvergenceWarning: Stochastic Optimizer: Maximum iterations (200) reached and the optimization hasn't converged yet.\n",
      "  warnings.warn(\n"
     ]
    }
   ],
   "source": [
    "mlp_model_4 = MLPClassifier(activation='tanh', solver='lbfgs', max_iter=300, hidden_layer_sizes=(150,), learning_rate_init=0.01, alpha=0.005)\n",
    "mlp_model_4.fit(train_data, temp4_train['temp4'])\n",
    "temp4_black_pred = mlp_model_4.predict(test_data_blackshcoles)\n",
    "temp4_body_pred = mlp_model_4.predict(test_data_bodytrack)\n",
    "\n",
    "temp4_pred = mlp_model_4.predict(train_data)\n",
    "print(metrics.accuracy_score(temp4_train['temp4'], temp4_pred))\n",
    "\n",
    "# temp5\n",
    "mlp_model_5 = MLPClassifier()\n",
    "mlp_model_5.fit(train_data, temp5_train['temp5'])\n",
    "temp5_black_pred = mlp_model_5.predict(test_data_blackshcoles)\n",
    "temp5_body_pred = mlp_model_5.predict(test_data_bodytrack)\n",
    "\n",
    "temp5_pred = mlp_model_5.predict(train_data)\n",
    "print(metrics.accuracy_score(temp5_train['temp5'], temp5_pred))\n",
    "\n",
    "\n",
    "# temp6\n",
    "mlp_model_6 = MLPClassifier()\n",
    "mlp_model_6.fit(train_data, temp6_train['temp6'])\n",
    "temp6_black_pred = mlp_model_6.predict(test_data_blackshcoles)\n",
    "temp6_body_pred = mlp_model_6.predict(test_data_bodytrack)\n",
    "\n",
    "temp6_pred = mlp_model_6.predict(train_data)\n",
    "print(metrics.accuracy_score(temp6_train['temp6'], temp6_pred))\n",
    "\n",
    "# temp7\n",
    "mlp_model_7 = MLPClassifier()\n",
    "mlp_model_7.fit(train_data, temp7_train['temp7'])\n",
    "temp7_black_pred = mlp_model_7.predict(test_data_blackshcoles)\n",
    "temp7_body_pred = mlp_model_7.predict(test_data_bodytrack)\n",
    "\n",
    "temp7_pred = mlp_model_7.predict(train_data)\n",
    "print(metrics.accuracy_score(temp7_train['temp7'], temp7_pred))\n"
   ]
  },
  {
   "cell_type": "code",
   "execution_count": 104,
   "metadata": {},
   "outputs": [
    {
     "name": "stdout",
     "output_type": "stream",
     "text": [
      "0.01694915254237288\n",
      "0.0012106537530266344\n",
      "0.0012106537530266344\n",
      "0.0\n"
     ]
    }
   ],
   "source": [
    "# Metric evaluation\n",
    "print(metrics.accuracy_score(temp4_black_test['temp4'], temp4_black_pred))\n",
    "print(metrics.accuracy_score(temp5_black_test, temp5_black_pred))\n",
    "print(metrics.accuracy_score(temp6_black_test, temp6_black_pred))\n",
    "print(metrics.accuracy_score(temp7_black_test, temp7_black_pred))\n"
   ]
  },
  {
   "cell_type": "code",
   "execution_count": 105,
   "metadata": {},
   "outputs": [
    {
     "name": "stdout",
     "output_type": "stream",
     "text": [
      "0.008947006194081212\n",
      "0.0041293874741913286\n",
      "0.06744666207845836\n",
      "0.0020646937370956643\n"
     ]
    }
   ],
   "source": [
    "print(metrics.accuracy_score(temp4_body_test['temp4'], temp4_body_pred))\n",
    "print(metrics.accuracy_score(temp5_body_test, temp5_body_pred))\n",
    "print(metrics.accuracy_score(temp6_body_test, temp6_body_pred))\n",
    "print(metrics.accuracy_score(temp7_body_test, temp7_body_pred))\n"
   ]
  },
  {
   "cell_type": "code",
   "execution_count": null,
   "metadata": {},
   "outputs": [],
   "source": [
    "plot_path = \"plots/question3\"\n",
    "time = np.arange(0, test_data_bodytrack.shape[0])\n",
    "\n",
    "plt.figure()\n",
    "plt.plot(time, test_data_bodytrack['temp4'], 'o', label='True Values')\n",
    "plt.plot(time, temp4_body_pred, label='Predicted Values')\n",
    "plt.legend()\n",
    "plt.grid(True)\n",
    "plt.xlabel('Time [s]')\n",
    "plt.ylabel('Temp [ºC]')\n",
    "#  plt.title('Predicted vs Actual: blackscholes')\n",
    "plt.title('Predicted vs Actual: bodytrack')\n",
    "#  file_name = plot_path + \"_hw2_q2_blackscholes.png\"\n",
    "file_name = plot_path + \"_hw2_q3_bodytrack.png\"\n",
    "plt.savefig(file_name)\n",
    "plt.show()\n"
   ]
  },
  {
   "cell_type": "code",
   "execution_count": null,
   "metadata": {},
   "outputs": [],
   "source": [
    "plot_path = \"plots/question3\"\n",
    "time = np.arange(0, test_data_blackshcoles.shape[0])\n",
    "\n",
    "plt.figure()\n",
    "plt.plot(time, test_data_blackshcoles['temp4'], 'o', label='True Values')\n",
    "plt.plot(time, temp4_black_pred, label='Predicted Values')\n",
    "plt.legend()\n",
    "plt.grid(True)\n",
    "plt.xlabel('Time [s]')\n",
    "plt.ylabel('Temp [ºC]')\n",
    "#  plt.title('Predicted vs Actual: blackscholes')\n",
    "plt.title('Predicted vs Actual: blackscholes')\n",
    "#  file_name = plot_path + \"_hw2_q2_blackscholes.png\"\n",
    "file_name = plot_path + \"_hw2_q3_blackscholes.png\"\n",
    "plt.savefig(file_name)\n",
    "plt.show()\n"
   ]
  }
 ],
 "metadata": {
  "kernelspec": {
   "display_name": "Python 3",
   "language": "python",
   "name": "python3"
  },
  "language_info": {
   "codemirror_mode": {
    "name": "ipython",
    "version": 3
   },
   "file_extension": ".py",
   "mimetype": "text/x-python",
   "name": "python",
   "nbconvert_exporter": "python",
   "pygments_lexer": "ipython3",
   "version": "3.10.8"
  },
  "orig_nbformat": 4,
  "vscode": {
   "interpreter": {
    "hash": "26de051ba29f2982a8de78e945f0abaf191376122a1563185a90213a26c5da77"
   }
  }
 },
 "nbformat": 4,
 "nbformat_minor": 2
}

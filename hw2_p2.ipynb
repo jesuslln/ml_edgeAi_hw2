{
 "cells": [
  {
   "cell_type": "code",
   "execution_count": 11,
   "metadata": {},
   "outputs": [],
   "source": [
    "import pandas as pd\n",
    "from sklearn.linear_model import LinearRegression\n",
    "import numpy as np\n",
    "import matplotlib.pyplot as plt\n"
   ]
  },
  {
   "cell_type": "code",
   "execution_count": 2,
   "metadata": {},
   "outputs": [
    {
     "name": "stdout",
     "output_type": "stream",
     "text": [
      "   total_watts     w_big  w_little     w_gpu     w_mem  usage_c4  usage_c5  \\\n",
      "0        3.065  0.474810  0.033012  0.096321  0.048800       0.0       0.0   \n",
      "1        2.706  0.235620  0.032095  0.096515  0.032940       0.0       0.0   \n",
      "2        2.706  0.235620  0.034846  0.096515  0.032940       0.0       0.0   \n",
      "3        2.637  0.234685  0.034846  0.096321  0.037758       0.0       0.0   \n",
      "4        2.637  0.233750  0.033929  0.096321  0.032886       0.0       0.0   \n",
      "\n",
      "   usage_c6  usage_c7  temp4  temp5  temp6  temp7  temp_gpu  freq_big_cluster  \n",
      "0       0.0       0.0     49     53     52     48        47        1000000000  \n",
      "1       0.0       0.0     48     52     52     48        47        1000000000  \n",
      "2       0.0       0.0     48     52     52     48        47        1000000000  \n",
      "3       0.0       0.0     48     51     51     48        47        1000000000  \n",
      "4       0.0       0.0     48     51     51     48        47        1000000000  \n"
     ]
    }
   ],
   "source": [
    "train_df = pd.read_csv(\"./models_data/training_dataset.csv\")\n",
    "print(train_df.head())\n"
   ]
  },
  {
   "cell_type": "code",
   "execution_count": 3,
   "metadata": {},
   "outputs": [
    {
     "name": "stdout",
     "output_type": "stream",
     "text": [
      "   total_watts     w_big  w_little     w_gpu    w_mem  usage_c4  usage_c5  \\\n",
      "0        3.450  0.696429  0.036720  0.114195  0.03294       0.0       0.0   \n",
      "1        3.450  0.462800  0.036720  0.114195  0.03294       0.0       0.0   \n",
      "2        3.450  0.514800  0.039431  0.114195  0.03294       0.0       0.0   \n",
      "3        2.905  0.454480  0.039431  0.114195  0.03904       0.0       0.0   \n",
      "4        2.958  0.454480  0.039431  0.114195  0.03660       0.0       0.0   \n",
      "\n",
      "   usage_c6  usage_c7  temp4  temp5  temp6  temp7  temp_gpu  freq_big_cluster  \n",
      "0       0.0    0.0000     57     61     61     57        56        1500000000  \n",
      "1       0.0    0.0000     57     61     60     57        56        1500000000  \n",
      "2       0.0    0.1875     57     61     60     57        56        1500000000  \n",
      "3       0.0    0.0000     57     61     60     57        56        1500000000  \n",
      "4       0.0    0.0000     57     60     60     57        55        1500000000  \n"
     ]
    }
   ],
   "source": [
    "test_df = pd.read_csv(\"./models_data/testing_blackscholes.csv\")\n",
    "print(test_df.head())\n"
   ]
  },
  {
   "cell_type": "code",
   "execution_count": 4,
   "metadata": {},
   "outputs": [],
   "source": [
    "# Process data for training\n",
    "train_data = train_df.drop('w_big', axis=1)\n",
    "y_train = pd.DataFrame(train_df['w_big'])\n",
    "y_train.loc[y_train['w_big'] < 1, 'w_big'] = 0\n",
    "y_train.loc[y_train['w_big'] > 1, 'w_big'] = 1\n",
    "\n",
    "# Process data for training\n",
    "test_data = test_df.drop('w_big', axis=1)\n",
    "y_test = pd.DataFrame(test_df['w_big'])\n",
    "y_test.loc[y_test['w_big'] < 1, 'w_big'] = 0\n",
    "y_test.loc[y_test['w_big'] > 1, 'w_big'] = 1\n"
   ]
  },
  {
   "cell_type": "code",
   "execution_count": 15,
   "metadata": {},
   "outputs": [
    {
     "name": "stdout",
     "output_type": "stream",
     "text": [
      "0.9896022636353974\n",
      "-0.31496364946284694\n",
      "LinearRegression()\n"
     ]
    }
   ],
   "source": [
    "reg = LinearRegression().fit(train_data,y_train['w_big'])\n",
    "print(reg.score(train_data,y_train['w_big']))\n",
    "print(reg.score(test_data,y_test['w_big']))"
   ]
  },
  {
   "attachments": {},
   "cell_type": "markdown",
   "metadata": {},
   "source": [
    "#### Add new feature Vdd(square) f"
   ]
  },
  {
   "cell_type": "code",
   "execution_count": 16,
   "metadata": {},
   "outputs": [],
   "source": [
    "train_data.loc[train_data['freq_big_cluster'] /\n",
    "               1000000000 == 0.9, 'vdd_f'] = 0.975*0.975*1000000000*0.9\n",
    "train_data.loc[train_data['freq_big_cluster'] /\n",
    "               1000000000 == 1, 'vdd_f'] = 1000000000\n",
    "train_data.loc[train_data['freq_big_cluster'] /\n",
    "               1000000000 == 2, 'vdd_f'] = 1.362*1.362*2000000000\n"
   ]
  },
  {
   "cell_type": "code",
   "execution_count": 17,
   "metadata": {},
   "outputs": [],
   "source": [
    "test_data.loc[test_data['freq_big_cluster']/1000000000 ==\n",
    "              1.5, 'vdd_f'] = 1.1375*1.1375*1000000000*1.5\n"
   ]
  },
  {
   "cell_type": "code",
   "execution_count": 18,
   "metadata": {},
   "outputs": [
    {
     "name": "stdout",
     "output_type": "stream",
     "text": [
      "0.9968781727588392\n",
      "-57.36368713660021\n"
     ]
    }
   ],
   "source": [
    "reg = LinearRegression().fit(train_data,y_train['w_big'])\n",
    "print(reg.score(train_data,y_train['w_big']))\n",
    "print(reg.score(test_data,y_test['w_big']))"
   ]
  }
 ],
 "metadata": {
  "kernelspec": {
   "display_name": "Python 3",
   "language": "python",
   "name": "python3"
  },
  "language_info": {
   "codemirror_mode": {
    "name": "ipython",
    "version": 3
   },
   "file_extension": ".py",
   "mimetype": "text/x-python",
   "name": "python",
   "nbconvert_exporter": "python",
   "pygments_lexer": "ipython3",
   "version": "3.10.8"
  },
  "orig_nbformat": 4,
  "vscode": {
   "interpreter": {
    "hash": "26de051ba29f2982a8de78e945f0abaf191376122a1563185a90213a26c5da77"
   }
  }
 },
 "nbformat": 4,
 "nbformat_minor": 2
}
